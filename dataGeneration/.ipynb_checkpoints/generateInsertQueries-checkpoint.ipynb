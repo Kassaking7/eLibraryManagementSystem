{
 "cells": [
  {
   "cell_type": "code",
   "execution_count": 1,
   "id": "8cae91ca",
   "metadata": {},
   "outputs": [
    {
     "name": "stdout",
     "output_type": "stream",
     "text": [
      "\n"
     ]
    }
   ],
   "source": [
    "import random\n",
    "import math\n",
    "\n",
    "length_book = 100000\n",
    "length_has_tag = 300000\n",
    "length_author = 10000\n",
    "length_written_by = 150000\n",
    "length_publisher = 200\n",
    "length_copy = 300000\n",
    "length_location = 50\n",
    "length_bookshelf = 1000\n",
    "\n",
    "titles = [\"Above the Law\", \"Avventura, L' (Adventure, The)\", \"Cover-Up\", \"Nothing\", \"Female Prisoner #701: Scorpion (Joshuu 701-gô: Sasori)\", \"7 Dollars on the Red (Sette dollari sul rosso)\", \"I Really Hate My Job\", \"Day Night Day Night\", \"Sacrifice (Zhao shi gu er)\", \"American Grindhouse\", \"Son of Flubber\", \"Year Zero: The Silent Death of Cambodia\", \"Voyage to the End of the Universe (Ikarie XB 1)\", \"12 Years a Slave\", \"Revolution\", \"Black God, White Devil (Deus e o Diabo na Terra do Sol)\", \"7th Dawn, The\", \"Afterschool\", \"Julia\", \"Rough Magic\", \"The Derby Stallion\", \"Perfect Murder, The\", \"Polish Wedding\", \"Priceless (Hors de prix)\", \"Rush\", \"Simpsons Movie, The\", \"Rookie, The\", \"Cutter, The\", \"Raisin in the Sun, A\", \"Unholy\", \"Mysteries of Lisbon (Mistérios de Lisboa)\", \"Je préfère qu'on reste amis\", \"In My Skin (Dans ma Peau)\", \"Starflight: The Plane That Couldn't Land\", \"Zombeavers\", \"Puccini for Beginners\", \"Only God Forgives\", \"Geography Club\", \"Tracker\", \"Easy Come, Easy Go\", \"Jesus' Son\", \"Eye, The (Gin gwai) (Jian gui)\", \"X-Files: Fight the Future, The\", \"Division III: Football's Finest\", \"Prayer for the Dying, A\", \"Wedding Gift, The\", \"House of Bamboo\", \"Waiting to Exhale\", \"Age of Innocence, The\", \"Maria Full of Grace (Maria, Llena eres de gracia)\", \"Battle in Outer Space\", \"Much Ado About Nothing\", \"Wattstax\", \"Moonwalker\", \"Why Man Creates\", \"Pippi on the Run (På rymmen med Pippi Långstrump)\", \"Trekkies 2\", \"Prom Night IV: Deliver Us From Evil\", \"Donos de Portugal\", \"Stalag 17\", \"Other Guys, The\", \"Paid in Full\", \"Jason's Lyric\", \"Blue Blood\", \"Nine Lives of Tomas Katz, The\", \"Peter's Friends\", \"Rum Diary, The\", \"Man of Straw (Untertan, Der)\", \"Papadopoulos & Sons\", \"Tag: The Assassination Game (a.k.a. Everybody Gets It in the End)\", \"Black Lightning (Chernaya Molniya)\", \"When Ladies Meet\", \"November Man, The\", \"Filth\", \"All Dogs Go to Heaven\", \"Suddenly (Tan de Repente)\", \"Parallax View, The\", \"Diverted\", \"Sam Peckinpah's West: Legacy of a Hollywood Renegade\", \"Gigi\", \"Catwoman\", \"Eraserhead\", \"Arrival, The\", \"Due Date\", \"The Wild World of Lydia Lunch\", \"Waiting Women (Kvinnors väntan)\", \"Spider-Man\", \"In Country\", \"Air I Breathe, The\", \"Between Your Legs (Entre las piernas)\", \"Revolver\", \"Thérèse\", \"Touki Bouki\", \"Polytechnique\", \"Täynnä Tarmoa\", \"Female\", \"Great Flamarion, The\", \"Pretty Maids All in a Row\", \"Champ, The\", \"Ambush (Mai fu)\", \"Griffin and Phoenix\", \"Murder Party\", \"Great Beauty, The (Grande Bellezza, La)\", \"Fido\", \"Mandela: Long Walk to Freedom\", \"Night of the Shooting Stars (Notte di San Lorenzo, La)\", \"Out of the Blue (Aramoana)\", \"Newton Boys, The\", \"Honey Moon (Honigmond)\", \"Locke\", \"Of Gods and Men (Des hommes et des dieux)\", \"My Joy (Schastye moe)\", \"Watchmen: Tales of the Black Freighter\", \"Protector, The (a.k.a. Warrior King) (Tom yum goong)\", \"From Beginning to End (Do Começo ao Fim)\", \"Blow Out\", \"Killing Fields, The\", \"Mutantes\", \"Little Brother, Big Trouble: A Christmas Adventure (Niko 2: Lentäjäveljekset)\", \"Land Without Bread (Hurdes, tierra sin pan, Las)\", \"Code, The (Mentale, La)\", \"Yor, the Hunter from the Future\", \"The Fighting 69th\", \"Woman on the Beach, The\", \"St Trinian's 2: The Legend of Fritton's Gold\", \"Zu: Warriors from the Magic Mountain (Xin shu shan jian ke)\", \"House That Dripped Blood, The\", \"Negotiator, The\", \"General, The\", \"Village of the Damned\", \"Revolution\", \"Jobs\", \"Rebound, The\", \"Mare Nostrum\", \"Blank City\", \"Opposing Force\", \"Redline\", \"Let's Scare Jessica to Death\", \"Borderline\", \"Fried Green Tomatoes\", \"Bright Days Ahead\", \"Witches, The\", \"Human Behavior Experiments, The\", \"Elephant Boy\", \"Fabled\", \"United 93\", \"Point Blank\", \"Karan Arjun\", \"Crazy People\", \"Dragon Ball Z: The History of Trunks (Doragon bôru Z: Zetsubô e no hankô!! Nokosareta chô senshi - Gohan to Torankusu)\", \"Yolki\", \"Red Eye\", \"Rack, The\", \"To Die For\", \"Big Combo, The\", \"Cose da pazzi\", \"No Looking Back\", \"Battlestar Galactica: Razor\", \"Police Academy 6: City Under Siege\", \"Innocence\", \"Taste of Honey, A\", \"Starman\", \"Stardust\", \"Annabel Takes a Tour (Annabel Takes a Trip)\", \"At the River I Stand\", \"I Am Cuba (Soy Cuba/Ya Kuba)\", \"Finisterrae\", \"Other Woman, The\", \"Eye for an Eye\", \"Somewhere\", \"Hulk Vs.\", \"Edge of Seventeen\", \"Love and Death on Long Island\", \"Pekka ja Pätkä lumimiehen jäljillä\", \"Wayne's World 2\", \"Fanny\", \"Marie from the Bay of Angels (Marie Baie Des Anges)\", \"Dickson Greeting\", \"Father Takes a Wife\", \"Other People's Money\", \"Rustlers' Rhapsody\", \"Way I Spent the End of the World, The (Cum mi-am petrecut sfarsitul lumii)\", \"Rubin and Ed\", \"Leafie, a Hen Into the Wild (Madangeul Naon Amtak)\", \"Angst\", \"Martin Lawrence Live: Runteldat\", \"Watch Out for the Automobile (Beregis avtomobilya)\", \"Bamako\", \"Joyeux Noël (Merry Christmas)\", \"McFarland USA\", \"Life Apart: Hasidism in America, A\", \"Kevin & Perry Go Large\", \"Never Ever! (Nigdy w zyciu!)\", \"Human Stain, The\", \"Vai~E~Vem\", \"Smoking/No Smoking\", \"Rainbow Valley\", \"Insomnia\", \"You'll Never Get Rich\", \"Cabin Boy\", \"Burn Notice: The Fall of Sam Axe\", \"Shenandoah\", \"Who Is Harry Kellerman and Why Is He Saying Those Terrible Things About Me?\", \"Blind Husbands\", \"Elf\", \"By the Sea\", \"Lion King 1½, The\", \"The Land Unknown\", \"Pride of St. Louis, The\", \"Salaam Cinema\", \"Chiko\", \"Epidemic\", \"Crimson Kimono, The\", \"Tyler Perry's Madea's Big Happy Family\", \"Life Without Dick\", \"Password: Uccidete agente Gordon\", \"44 Minutes: The North Hollywood Shoot-Out\", \"Win a Date with Tad Hamilton!\", \"Dungeons & Dragons\", \"Thirteenth Floor, The\", \"District 13: Ultimatum (Banlieue 13 - Ultimatum)\", \"Girls in Prison\", \"Fiorile\", \"Microcosmos (Microcosmos: Le peuple de l'herbe)\", \"Praying with Lior\", \"Baron Blood (Orrori del castello di Norimberga, Gli)\", \"Rebirth of Mothra III\", \"Burn! (Queimada)\", \"Straight to Hell\", \"Silmido\", \"So Much Water\", \"Bandits (Bandidos)\", \"Projectionist, The\", \"Age of Ice\", \"Much Ado About Nothing\", \"Hidden Agenda\", \"Kramer vs. Kramer\", \"Matter of Life and Death, A (Stairway to Heaven)\", \"Grave Secrets (Silent Screams)\", \"Mask of Dimitrios, The\", \"Nosferatu (Nosferatu, eine Symphonie des Grauens)\", \"Ride the Divide\", \"Sambizanga\", \"Miss Potter\", \"Wild Tigers I Have Known\", \"Drop Zone\", \"Foxfire\", \"Not Love, Just Frenzy (Más que amor, frenesí)\", \"Boyhood\", \"Big Stan\", \"Some Folks Call It a Sling Blade\", \"Circus of Horrors\", \"Man of the World\", \"Children of Paradise (Les enfants du paradis)\", \"Twenty Bucks\", \"1, 2, 3, Sun (Un, deuz, trois, soleil)\", \"Blackhat\", \"You Only Live Once\", \"Death by China \", \"Princess Bride, The\", \"Victor Sjöström: Ett porträtt\", \"Bread and Tulips (Pane e tulipani)\", \"Escape from Dartmoor\", \"Tunnel Rats (1968 Tunnel Rats)\", \"Letters from Iwo Jima\", \"Werner - Das muss kesseln!!!\", \"I'll Do Anything\", \"Trapped\", \"Sanjuro (Tsubaki Sanjûrô)\", \"Heroic Ones, The (Shi san tai bao)\", \"Curse, The (a.k.a. The Farm)\", \"Men of Honor\", \"Dolores Claiborne\", \"Elizabeth I\", \"Foolproof\", \"Dragonlance: Dragons of Autumn Twilight\", \"American Ninja 2: The Confrontation\", \"Cat's-Paw, The\", \"'R Xmas\", \"Thomas Crown Affair, The\", \"Speed Zone! (a.k.a. Cannonball Run III)\", \"Wieners\", \"Exorcist III, The\", \"Nuremberg\", \"Murder, He Says\", \"Antonia's Line (Antonia)\", \"Fearless\", \"Save the Date\", \"Liv & Ingmar\", \"Letter from an Unknown Woman\", \"Boys on the Side\", \"Batman\", \"Elite Squad: The Enemy Within (Tropa de Elite 2 - O Inimigo Agora É Outro)\", \"Chance\", \"Flight of the Red Balloon (Voyage du ballon rouge, Le)\", \"Chicago\", \"Make Them Die Slowly (Cannibal Ferox)\", \"John Doe: Vigilante\", \"Star Wars Uncut: Director's Cut\", \"My Name is Khan\", \"Assault on a Queen\", \"Stuff and Dough (Marfa si banii)\", \"Open House \", \"Always\", \"Jezebel\", \"Father Takes a Wife\", \"All the Light in the Sky\", \"Zatoichi and the Doomed Man (Zatôichi sakate giri) (Zatôichi 11)\", \"Head Over Heels\", \"Iron Monkey (Siu nin Wong Fei-hung ji: Tit Ma Lau)\", \"Bridge Too Far, A\", \"Last Stand, The\", \"Naked Fear\", \"Governess, The\", \"Project X\", \"Long Goodbye, The\", \"Crossing Guard, The\", \"Blubberella\", \"Cuckoo, The (Kukushka)\", \"Belle Starr\", \"Secret of Kells, The\", \"Nazarin (Nazarín)\", \"Thoroughly Modern Millie\", \"Bosko's Parlor Pranks\", \"13 Frightened Girls! (Candy Web, The)\", \"Tale of Two Sisters, A (Janghwa, Hongryeon)\", \"Failure to Launch\", \"Rage\", \"Foxy Brown\", \"Moment of Innocence, A (Nun va Goldoon)\", \"Halloween 4: The Return of Michael Myers\", \"Wounds, The (Rane)\", \"24 Exposures\", \"Good Morning (Ohayô)\", \"18 Fingers of Death!\", \"Comrades: Almost a Love Story (Tian mi mi)\", \"Killjoy 3\", \"Among Us (Onder Ons)\", \"Bongwater\", \"Farmer & Chase\", \"Stalingrad\", \"Antarctica\", \"Getaway, The\", \"Rockabilly Vampire\", \"Raven, The\", \"Hue and Cry\", \"33 Scenes from Life (33 sceny z zycia)\", \"I Accuse!\", \"Molly Maguires, The\", \"Armwrestler From Solitude, The (Armbryterskan från Ensamheten)\", \"12th & Delaware\", \"Jack\", \"Descendants, The\", \"What a Girl Wants\", \"Another Earth\", \"Journeys with George\", \"Monster's Ball\", \"This Filthy World\", \"Toni\", \"Living Dead Girl, The (Morte Vivante, La)\", \"Slacker\", \"Gunga Din\", \"Full of It\", \"Josh and S.A.M.\", \"Liverpool\", \"Hunger Games: Catching Fire, The\", \"Atomic Cafe, The\", \"Johnny Dangerously\", \"Rudolph the Red-Nosed Reindeer: The Movie\", \"Angel Named Billy, An\", \"Sometime in August (Mitte Ende August)\", \"Curse of the Oily Man (Sumpah orang minyak) \", \"Which Way Home\", \"Oyster Farmer\", \"Gotti\", \"High School\", \"Dragon Ball Z: Cooler's Revenge (Doragon bôru Z 5: Tobikkiri no saikyô tai saikyô)\", \"Busher, The\", \"Angel Eyes\", \"Dragon Eyes\", \"Stig-Helmer Story, The\", \"Mystic Masseur, The\", \"Bridge, The (Brücke, Die)\", \"Time Tracers\", \"Narco Cultura\", \"Afterburn\", \"Dinner, The (Diner, Het)\", \"Halloween 4: The Return of Michael Myers\", \"Paid\", \"Sailor of the King\", \"Land Girls, The\", \"Collision Earth\", \"Fallen, The\", \"Japanese Summer: Double Suicide (Muri shinjû: Nihon no natsu)\", \"Werewolf, The\", \"So Proudly We Hail!\", \"Cottage, The\", \"Soldier of Orange (a.k.a. Survival Run) (Soldaat van Oranje)\", \"Two: The Story of Roman & Nyro\", \"Short Film About Killing, A (Krótki film o zabijaniu)\", \"Cell, The\", \"Hamlet (Gamlet)\", \"Transformers\", \"Johnny Belinda\", \"Wild Tales\", \"Long Way Home, The\", \"Family Jewels, The\", \"Halloween II\", \"Marva Collins Story, The\", \"Babe, The\", \"Rooster Cogburn\", \"Visitor Q (Bizita Q)\", \"Under Siege\", \"Edge of Heaven, The (Auf der anderen Seite)\", \"Fugitive Kind, The\", \"Junk Mail (Budbringeren)\", \"Saw III\", \"Silent Partner\", \"Dealer\", \"Theatre Bizarre, The\", \"Nico and Dani (Krámpack)\", \"Swing Kids\", \"Mysteries of Pittsburgh, The\", \"Evangelion: 2.0 You Can (Not) Advance (Evangerion shin gekijôban: Ha)\", \"Plutonium Circus\", \"Cold Moon (Lune froide)\", \"Young & Wild (Joven y alocada)\", \"Sex Drive\", \"Hollow Reed\", \"Operación Cannabis\", \"Pit and the Pendulum, The\", \"Frozen Land (Paha maa)\", \"Vengeance Can Wait\", \"River Murders, The\", \"Marvel One-Shot: Item 47\", \"Otra Familia, La\", \"Pretty Good for a Human (People Not as Bad as They Seem) (Aika hyvä ihmiseksi)\", \"Tango & Cash\", \"Kiss Me Goodbye\", \"Purple Violets\", \"From Prada to Nada\", \"Ernest & Célestine (Ernest et Célestine)\", \"Next Three Days, The\", \"Shipping News, The\", \"Matrix Revolutions, The\", \"On Dangerous Ground\", \"Red Balloon, The (Ballon rouge, Le)\", \"Grand Canyon\", \"Gunfighter, The\", \"Screaming Man, A (Un homme qui crie)\", \"Here Comes the Devil (Ahí va el diablo)\", \"The Forest\", \"Mouchette\", \"Major and the Minor, The\", \"Waterland\", \"Urban Legends: Final Cut\", \"Voll Normaaal\", \"Eden\", \"Shrek the Halls\", \"Dead Awake\", \"Not Here to Be Loved (Je ne suis pas là pour être aimé)\", \"Bakhita\", \"Thomas and the Magic Railroad\", \"Wrongfully Accused\", \"Perfect Blue\", \"Book Thief, The\", \"Rosenstrasse\", \"Bad Company\", \"Easy Rider\", \"Thursday\", \"Harrison Bergeron\", \"Tennessee Johnson\", \"Pluto's Christmas Tree\", \"Lore\", \"Deadly Voyage\", \"Best Man, The\", \"Return to the 36th Chamber (Shao Lin da peng da shi) \", \"Dr. Ehrlich's Magic Bullet\", \"Sade\", \"Strike (Stachka)\", \"Border Radio\", \"Lucy\", \"Cult of the Cobra\", \"Meetin' WA\", \"Dry Cleaning (Nettoyage à sec)\", \"The Circle\", \"Gummo\", \"My Louisiana Sky\", \"Devil Rides Out, The\", \"Red Lights\", \"Oranges\", \"Memories of Matsuko (Kiraware Matsuko no isshô)\", \"Max Keeble's Big Move\", \"Last of Robin Hood, The\", \"Dead Souls\", \"Life and Times of Hank Greenberg, The\", \"North Country\", \"Rabid Grannies (Mémés cannibales, Les)\", \"Operation Pacific\", \"Black Orchid, The\", \"Caretakers, The\", \"Chad Hanna\", \"Mio in the Land of Faraway (Mio min Mio)\", \"Warning for the Joensson Gang (Varning för Jönssonligan)\", \"Finian's Rainbow\", \"Geek Charming\", \"No Holds Barred\", \"Muhammad Ali's Greatest Fight\", \"Sea Is Watching, The (Umi wa miteita)\", \"Child, The (L'enfant)\", \"Peach Thief, The (Kradetzat na praskovi)\", \"Anaconda\", \"Firemen's Ball, The (Horí, má panenko)\", \"Supervixens\", \"Smashing Time\", \"Cold Moon (Lune froide)\", \"Three Monkeys (Üç maymun)\", \"Crimson Tide\", \"Silkwood\", \"Odd Couple (Bo ming chan dao duo ming qiang) (Eternal Conflict)\", \"Green Street Hooligans 2\", \"Nora's Will (Cinco días sin Nora)\", \"Left-Hand Side of the Fridge, The (Moitié gauche du frigo, La)\", \"Pontiac Moon\", \"Oil, the Baby and the Transylvanians, The (Pruncul, petrolul si Ardelenii)\", \"Anna Karenina\", \"Belly of the Beast\", \"Girl, The (Flickan)\", \"Derrida\", \"Adonis Factor, The\", \"Brother (Hermano)\", \"Wilderness\", \"Duck Season (Temporada de patos)\", \"Autism: The Musical\", \"Item, The\", \"Human Desire\", \"66 Scenes From America\", \"Point of Order\", \"Shanghai\", \"Black Robe\", \"Neighbouring Sounds (O som ao redor)\", \"Johnny Mad Dog\", \"12 Storeys (Shier lou)\", \"Louise Brooks: Looking for Lulu\", \"Requiem for a Heavyweight\", \"Auschwitz: The Nazis and the 'Final Solution'\", \"Scandali nudi\", \"Strings\", \"G.O.R.A.\", \"Things to Come\", \"Cowspiracy: The Sustainability Secret\", \"Mark of Cain, The\", \"Big Fish\", \"Run Fatboy Run\", \"Man of the Year, The (O Homem do Ano)\", \"Thousand Words, A\", \"Day of the Dead\", \"Fox and His Friends (Faustrecht der Freiheit)\", \"America's Sweethearts\", \"Rosemary's Baby\", \"Goldfish Memory\", \"No Retreat, No Surrender\", \"Fly, The (Légy, A)\", \"Knights of Bloodsteel\", \"Hobbit: An Unexpected Journey, The\", \"The Lone Wolf Spy Hunt\", \"alaskaLand\", \"Larks on a String (Skrivánci na niti)\", \"Attack of the 50 Ft. Woman\", \"Ghoulies II\", \"David Holzman's Diary\", \"Blind Husbands\", \"One and Only, Genuine, Original Family Band, The\", \"Berlin 36\", \"Black Rain (Kuroi ame)\", \"Half Moon Street\", \"Love Don't Cost a Thing\", \"Harvey\", \"Tell-Tale\", \"I Accuse!\", \"Mademoiselle\", \"Joy Luck Club, The\", \"Angel\", \"Crooklyn\", \"Silent Wedding (Nunta Muta)\", \"K-19: The Widowmaker\", \"Butcher Boys (Bone Boys)\", \"Wedding Song, The \", \"Almost Famous\", \"Living in Oblivion\", \"Lucas\", \"Narc\", \"Federico Fellini's Autobiography (Federico Fellini - un autoritratto ritrovato)\", \"Anatomy (Anatomie)\", \"Ghost Story\", \"Free Money\", \"11 Harrowhouse\", \"Gendernauts\", \"Wings in the Dark\", \"Weekend It Lives, The (Ax 'Em)\", \"Torremolinos 73\", \"Exorcist: The Beginning\", \"Vares: The Path of the Righteous Men (Vares - Kaidan tien kulkijat)\", \"Assault on a Queen\", \"Árido Movie\", \"Scatter My Ashes at Bergdorf's\", \"After You (Après vous...)\", \"Hangtime - Kein leichtes Spiel\", \"Restoration\", \"Boys, The (Pojat)\", \"Broken Blossoms or The Yellow Man and the Girl\", \"Bridge on the River Kwai, The\", \"Little Manhattan\", \"Mask, The\", \"Tree of Life, The\", \"Portrait of Maria (María Candelaria (Xochimilco))\", \"101 Dalmatians (One Hundred and One Dalmatians)\", \"Kumiko, the Treasure Hunter\", \"I Drink Your Blood\", \"Salmonberries\", \"Goon\", \"Bullets Over Broadway\", \"Elizabeth I\", \"Timber Falls\", \"Shadow Magic\", \"Film About a Woman Who...\", \"Freedom\", \"Family Affair \", \"Christmas Story, A\", \"Angels of the Universe (Englar alheimsins)\", \"Happily Ever After (Ils se marièrent et eurent beaucoup d'enfants)\", \"Sorority House Massacre\", \"Vacation from Marriage\", \"Donovan's Reef\", \"Thr3e (Three)\", \"Paper Moon\", \"Flipper\", \"Windows\", \"Don't Look Now: We're Being Shot At (La grande vadrouille)\", \"Tough Guys Don't Dance\", \"Woman in The Septic Tank, The (Ang Babae sa septic tank)\", \"Luck, Trust & Ketchup: Robert Altman in Carver Country\", \"Awful Truth, The\", \"Mickey's Twice Upon a Christmas\", \"Sisters, The\", \"Slaughterhouse-Five\", \"3 Holiday Tails (Golden Christmas 2: The Second Tail, A)\", \"Giant\", \"Man Called Peter, A\", \"Queen Bee\", \"Get Thrashed: The Story of Thrash Metal\", \"Jakob the Liar\", \"Raisin in the Sun, A\", \"Excuse My Dust\", \"Comic Book Villains\", \"Crazy in Alabama\", \"FBI Story, The\", \"Age of Heroes\", \"Kagi (Odd Obsession)\", \"Heart Is a Lonely Hunter, The\", \"Trials of Cate McCall, The\", \"Fatal Instinct\", \"No Retreat, No Surrender\", \"Fright Night Part II\", \"In the Electric Mist\", \"Def-Con 4\", \"Gattaca\", \"My Friend Ivan Lapshin (Moy drug Ivan Lapshin)\", \"In Hell\", \"Flood\", \"Boy Named Charlie Brown, A\", \"Animatrix, The\", \"Silent Night, Bloody Night\", \"Little Stiff, A\", \"Anne of Green Gables\", \"The Little Death\", \"Remember the Daze (Beautiful Ordinary, The)\", \"Ready to Rumble\", \"Police Academy 5: Assignment: Miami Beach\", \"Faces of Death 3\", \"Amityville: Dollhouse\", \"One Day\", \"Crime of Father Amaro, The (Crimen del padre Amaro, El)\", \"Battleship\", \"Crazy Heart\", \"Summer at Grandpa's, A (Dong dong de jia qi)\", \"Judex\", \"Rewrite, The\", \"The New Babylon\", \"Jane Eyre\", \"Before and After\", \"Popeye\", \"Rigoletto\", \"Toronto Stories\", \"Style Wars\", \"Popatopolis\", \"The Great Scout & Cathouse Thursday\", \"Carnival of Souls\", \"Return to Homs, The\", \"At the Death House Door\", \"Running Out of Time (Am zin)\", \"Infidel, The\", \"Nirvana\", \"Mark Shoots First\", \"No One Dies in Lily Dale\", \"Journey Into Fear\", \"Disco Pigs\", \"Smart People\", \"FDR: American Badass!\", \"Texasville\", \"Railway Man, The\", \"Tale of Winter, A (a.k.a. A Winter's Tale) (Conte d'hiver)\", \"Starship Troopers: Invasion\", \"Reel Injun\", \"Nomads\", \"Wild Parrots of Telegraph Hill, The\", \"SpongeBob Movie: Sponge Out of Water, The\", \"Red Doors\", \"Speed & Angels\", \"Shadow Boxers\", \"Mondo\", \"Occupant\", \"Bigamist, The\", \"His Name Was Jason: 30 Years of Friday the 13th\", \"Bad Family (Paha Perhe)\", \"Angel in My Pocket\", \"What's Up, Scarlet?\", \"Five Angles on Murder\", \"Lo\", \"Eraser\", \"Book of Shadows: Blair Witch 2\", \"Undisputed II: Last Man Standing\", \"Exposed\", \"And the Pursuit of Happiness (La poursuite du bonheur)\", \"Behind Enemy Lines\", \"Landlord, The\", \"Innocent, The\", \"Jealousy\", \"Castles in the Sky\", \"Starry starry night (Xing kong)\", \"Dinotopia\", \"Vulgar\", \"Lupin III: First Contact (Rupan Sansei: Faasuto Kontakuto)\", \"Star Trek II: The Wrath of Khan\", \"Shame\", \"Decampitated\", \"99 River Street\", \"Dante 01\", \"Enemies: A Love Story\", \"Company of Wolves, The\", \"Out of Bounds\", \"Love, Wedding, Marriage\", \"Lilies of the Field\", \"Great Freedom No. 7 (Port of Freedom) (Große Freiheit Nr. 7)\", \"Prairie Fever\", \"Warm Bodies\", \"Our Song\", \"Dr Money and the Boy with No Penis\", \"Open Season\", \"Bettie Page Reveals All\", \"Parade\", \"Librarian: Return to King Solomon's Mines, The\", \"Wages of Fear, The (Salaire de la peur, Le)\", \"Among Giants\", \"Oblivion Island: Haruka and the Magic Mirror (Hottarake no shima - Haruka to maho no kagami)\", \"The Castle of Fu Manchu\", \"House of 1000 Corpses\", \"Cassandra's Dream\", \"One Tough Cop\", \"Home Alone 4\", \"Angela\", \"Hard Rain\", \"Sarah Silverman:  We Are Miracles\", \"Heartlands\", \"Diamonds Are Forever\", \"Ghost in the Shell 2: Innocence (a.k.a. Innocence) (Inosensu)\", \"Welcome to the South (Benvenuti al Sud)\", \"Weekend at Bernie's II\", \"Outer Space\", \"Killing of John Lennon, The\", \"Tom Petty and the Heartbreakers: Runnin' Down a Dream\", \"Pilate and Others (Pilatus und andere - Ein Film für Karfreitag) \", \"The Pentagon Papers\", \"Tripper, The\", \"The Face Behind the Mask\", \"Satisfaction (a.k.a. Girls of Summer)\", \"Confessions of a Nazi Spy\", \"Darktown Strutters (Get Down and Boogie)\", \"A-Haunting We Will Go\", \"Smile\", \"Joy Division\", \"Only Yesterday (Omohide poro poro)\", \"Off the Charts: The Song-Poem Story\", \"Gracie\", \"Poor Little Rich Girl\", \"Prospero's Books\", \"That Day, on the Beach (Hai tan de yi tian)\", \"Tinpis Run\", \"Sergeant Körmy and the South Pacific (Vääpeli Körmy ja etelän hetelmät)\", \"French Connection, The\", \"Aguirre: The Wrath of God (Aguirre, der Zorn Gottes)\", \"Freakin' Beautiful World (Sairaan kaunis maailma)\", \"Road Hard\", \"Climate of Change\", \"Indian in the Cupboard, The\", \"Gator\", \"Neon Genesis Evangelion: The End of Evangelion (Shin seiki Evangelion Gekijô-ban: Air/Magokoro wo, kimi ni)\", \"Casper Meets Wendy\", \"Mad Max Beyond Thunderdome\", \"Fetishes\", \"Red Riding: 1980\", \"In the Loop\", \"Crazy Mama\", \"Summer of Blood\", \"Ghostbusters II\", \"Zombie Apocalypse\", \"End of the Affair, The\", \"Tin Man\", \"Crash Dive\", \"Lucky Jordan\", \"Confessions of a Pop Performer\", \"Assassin(s)\", \"Kansas Raiders\", \"Above Us Only Sky\", \"This Christmas\", \"Teacher, A\", \"Jungle Book\", \"Love Finds Andy Hardy\", \"Jack and the Beanstalk\", \"SpaceCamp\", \"Gods Must Be Crazy II, The\", \"Romeo Must Die\", \"My Best Friend (Mon meilleur ami)\", \"Instructions Not Included (No se Aceptan Devoluciones)\", \"Duplex\", \"Beautiful Boxer\", \"Critters 3\", \"Welcome, or No Trespassing\", \"Initial D (Tau man ji D)\", \"28 Days Later\", \"Woman's Face, A (En kvinnas ansikte) \", \"Dead End\", \"Home and the World, The (Ghare-Baire)\", \"Lucky Numbers\", \"Tank on the Moon\", \"Pont du Nord, Le\", \"Nine Lives of Fritz the Cat, The\", \"All Is Forgiven (Tout est pardonné)\", \"Silent Running\", \"Bride of Boogedy\", \"Asterix and Cleopatra (Astérix et Cléopâtre)\", \"Cold Storage\", \"Flatliners\", \"Sydney (Hard Eight)\", \"Island at the Top of the World, The\", \"Barbary Coast Gent (Gold Town) (Honest Thief, The)\", \"Strada, La\", \"Queens Logic\", \"Descent\", \"Diggers\", \"To Paint or Make Love (Peindre ou faire l'amour)\", \"Trekkies\", \"Daleks' Invasion Earth: 2150 A.D.\", \"Your Friend the Rat\", \"Ice Bound\", \"Tough Ones, The (Häjyt)\", \"Source Code\", \"Good Hair\", \"About Schmidt\", \"Stand Up and Cheer!\", \"Andromeda Strain, The\", \"French Film\", \"Woman in The Septic Tank, The (Ang Babae sa septic tank)\", \"City of Violence, The (Jjakpae)\", \"Mount Head (Atama yama)\", \"Grand Seduction, The\", \"Pet, The\", \"She's Out of My League\", \"Lost in Austen\", \"Piled Higher and Deeper\", \"John Carter\", \"Manny\", \"Countdown to Looking Glass\", \"Scarecrow, The\", \"No Escape\", \"Lot Like Love, A\", \"Fire-Eater (Tulennielijä)\", \"Coach Carter\", \"Olympia Part One: Festival of the Nations (Olympia 1. Teil - Fest der Völker)\", \"Highway \", \"Schultze Gets the Blues\", \"Tin Men\", \"Together (Tillsammans)\", \"Ambulance, The\", \"Kick-Ass\", \"Stella Street\", \"Musicwood\", \"The Devil Thumbs a Ride\", \"I See a Dark Stranger\", \"Crossing Delancey\", \"That's What I Am\", \"Scott Pilgrim vs. the World\", \"Barefoot (Barfuss)\", \"Change-Up, The\", \"Twisted Nerve\", \"Albino Alligator\", \"The Fault in Our Stars\", \"Glorious 39\", \"A Summer in St. Tropez\", \"Sugar & Spice\", \"Marva Collins Story, The\", \"Green Dolphin Street\", \"Alphaville (Alphaville, une étrange aventure de Lemmy Caution)\", \"Vegucated\", \"Smiling Fish and Goat on Fire\", \"Viking, The\", \"Taking Lives\", \"Story of Floating Weeds, A (Ukikusa monogatari)\", \"Cherry Falls\", \"Chechahcos, The\", \"PCU\", \"Wallace & Gromit: The Best of Aardman Animation\", \"Meek's Cutoff\", \"Down Argentine Way\", \"Corridor, The\", \"Sleuth\", \"Trapped\", \"Sister My Sister\", \"Earthquake\", \"Generale Della Rovere, Il\", \"Kids World\", \"Kairat\", \"Heart Like a Wheel\", \"Pearl, The (La perla)\", \"Wanda Nevada\", \"Chronicle of an Escape (Crónica de una fuga)\", \"Eat a Bowl of Tea\", \"Impromptu\", \"Albino Farm\", \"No More School\", \"King Solomon's Mines\", \"Helter Skelter\", \"Further Gesture, A\", \"Dangerous Place, A\", \"'Til There Was You\", \"Villain, The (Le Vilain)\", \"Running from Crazy\", \"The Rabbi's Cat (Le chat du rabbin)\", \"Annie Get Your Gun\", \"Late Autumn (Man-choo)\", \"Port of Call (Hamnstad)\", \"Nine Lives (Ni liv)\", \"Dinner for Schmucks\", \"Zarafa\", \"Phyllis and Harold\", \"Burial Ground (a.k.a. Zombie Horror) (a.k.a. Zombie 3) (Notti del Terrore, Le)\", \"Viy\", \"And Nobody Weeps for Me (Und keiner weint mir nach)\", \"Few Best Men, A\", \"Traitor\", \"Christmas Carol, A\", \"Marjoe\", \"1½ Knights - In Search of the Ravishing Princess Herzelinde\", \"Going All the Way\", \"Chimpanzee\", \"Endeavour\", \"Partners\", \"Tinker Bell and the Lost Treasure\", \"Last Exit\", \"Kiki\", \"Niagara\", \"Die Weihnachtsklempner\", \"Snowbeast\", \"The Search for Santa Paws\", \"That Hagen Girl\", \"Spooky House\", \"Don't Go Near the Water\", \"Attack of the Puppet People\", \"Moonlight and Cactus\", \"Desert of Forbidden Art, The\", \"Atragon (Kaitei Gunkan)\", \"K-PAX\", \"Cold in July\", \"Son, The (Le fils)\", \"Penalty, The\", \"Comme un chef\", \"Rollercoaster\", \"Very Annie Mary\", \"Shock Doctrine, The\", \"Three Smart Girls Grow Up\", \"Beethoven's 2nd\", \"October Country\", \"Thieves, The (Dodookdeul)\", \"Japanese Girls at the Harbor (Minato no nihon musume)\", \"Brooklyn Castle\", \"True Believer\", \"Hollywood Homicide\", \"Castle of Purity (El castillo de la pureza)\", \"Take the Money and Run\", \"Lady Be Good\"]\n",
    "\n",
    "\n",
    "print()"
   ]
  },
  {
   "cell_type": "code",
   "execution_count": 15,
   "id": "a828b3ed",
   "metadata": {},
   "outputs": [],
   "source": [
    "def isbnIndex(indexFrom, indexTo, unique):\n",
    "    result = []\n",
    "    numDigit = indexTo - indexFrom\n",
    "    if (unique):\n",
    "        temp = random.sample(range(0, int(math.pow(10, numDigit))), length_book)\n",
    "        for i in range(0, length_book):\n",
    "            n = temp[i]\n",
    "            result.append(('%0' + str(numDigit) + 'd') % n)\n",
    "    else:\n",
    "        for i in range(0, length_book):\n",
    "            n = int(random.randint(0, math.pow(10, numDigit) - 1))\n",
    "            result.append(('%0' + str(numDigit) + 'd') % n)\n",
    "    return result\n",
    "\n",
    "def getISBN():\n",
    "    result = []\n",
    "    isbn_0_3 = isbnIndex(0, 3, False)\n",
    "    isbn_3_4 = isbnIndex(3, 4, False)\n",
    "    isbn_4_6 = isbnIndex(4, 6, False)\n",
    "    isbn_6_12 = isbnIndex(6, 12, True)\n",
    "    isbn_12_13 = isbnIndex(12, 13, False)\n",
    "    for i in range(0, length_book):\n",
    "        result.append(\n",
    "            isbn_0_3[i] + \"-\" + \n",
    "            isbn_3_4[i] + \"-\" + \n",
    "            isbn_4_6[i] + \"-\" + \n",
    "            isbn_6_12[i] + \"-\" + \n",
    "            isbn_12_13[i]\n",
    "        )\n",
    "    return result"
   ]
  },
  {
   "cell_type": "code",
   "execution_count": 16,
   "id": "35800944",
   "metadata": {},
   "outputs": [],
   "source": [
    "temp = getISBN()"
   ]
  },
  {
   "cell_type": "code",
   "execution_count": 18,
   "id": "9be9559a",
   "metadata": {},
   "outputs": [],
   "source": [
    "def getInsertQueriesForBook(lstISBN):\n",
    "    result = []\n",
    "    for i in range(0, length_book):\n",
    "        result.append(\n",
    "            \"insert into Book (ISBN, title, number_of_pages, publisher_ID, publication_year) values (\" + \n",
    "            lstISBN[i] + ', \\\"' + \n",
    "            titles[random.randint(0, 999)] + '\\\", ' + \n",
    "            str(random.randint(80, 600)) + \", \" + \n",
    "            str(random.randint(1, length_publisher)) + \", \" + \n",
    "            str(random.randint(1900, 2023)) + \");\"\n",
    "        )\n",
    "    return result"
   ]
  },
  {
   "cell_type": "code",
   "execution_count": 87,
   "id": "597bfe84",
   "metadata": {},
   "outputs": [],
   "source": [
    "\n",
    "\n",
    "def concat(isbn_0_3, isbn_3_4, isbn_4_6, isbn_6_12, isbn_12_13):\n",
    "    result = []\n",
    "    for i in range(0, length):\n",
    "        result.append(\n",
    "            \"insert into Book (ISBN, title, number_of_pages, publisher_ID, publication_year) values (\" + \n",
    "            isbn_0_3[i] + \"-\" + \n",
    "            isbn_3_4[i] + \"-\" + \n",
    "            isbn_4_6[i] + \"-\" + \n",
    "            isbn_6_12[i] + \"-\" + \n",
    "            isbn_12_13[i] + ', \\\"' + \n",
    "            titles[random.randint(0, 999)] + '\\\", ' + \n",
    "            str(random.randint(80, 600)) + \", \" + \n",
    "            str(random.randint(1, 50)) + \", \" + \n",
    "            str(random.randint(1900, 2023)) + \");\"\n",
    "        )\n",
    "    return result"
   ]
  },
  {
   "cell_type": "code",
   "execution_count": 88,
   "id": "c2298d08",
   "metadata": {},
   "outputs": [
    {
     "data": {
      "text/plain": [
       "()"
      ]
     },
     "execution_count": 88,
     "metadata": {},
     "output_type": "execute_result"
    }
   ],
   "source": [
    "insert_queries = concat(isbnIndex(0, 3, False), isbnIndex(3, 4, False), isbnIndex(4, 6, False), isbnIndex(6, 12, True), isbnIndex(12, 13, False))\n",
    "\n"
   ]
  },
  {
   "cell_type": "code",
   "execution_count": 89,
   "id": "69d29847",
   "metadata": {},
   "outputs": [],
   "source": [
    "output = \"\"\n",
    "for query in insert_queries:\n",
    "    output += query + \"\\n\"\n",
    "    \n",
    "text_file = open(\"Output.txt\", \"w\")"
   ]
  },
  {
   "cell_type": "code",
   "execution_count": 90,
   "id": "5f162659",
   "metadata": {},
   "outputs": [],
   "source": [
    "text_file = open(\"Output.txt\", \"w\")\n",
    "text_file.write(output)\n",
    "text_file.close()"
   ]
  },
  {
   "cell_type": "code",
   "execution_count": null,
   "id": "cac8a04f",
   "metadata": {},
   "outputs": [],
   "source": []
  }
 ],
 "metadata": {
  "kernelspec": {
   "display_name": "Python 3 (ipykernel)",
   "language": "python",
   "name": "python3"
  },
  "language_info": {
   "codemirror_mode": {
    "name": "ipython",
    "version": 3
   },
   "file_extension": ".py",
   "mimetype": "text/x-python",
   "name": "python",
   "nbconvert_exporter": "python",
   "pygments_lexer": "ipython3",
   "version": "3.8.3"
  }
 },
 "nbformat": 4,
 "nbformat_minor": 5
}

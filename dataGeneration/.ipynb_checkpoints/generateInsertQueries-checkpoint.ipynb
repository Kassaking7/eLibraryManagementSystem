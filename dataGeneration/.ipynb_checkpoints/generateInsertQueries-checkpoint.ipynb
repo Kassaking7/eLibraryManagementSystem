{
 "cells": [
  {
   "cell_type": "code",
   "execution_count": 1,
   "id": "8cae91ca",
   "metadata": {},
   "outputs": [],
   "source": [
    "import random\n",
    "import math\n",
    "\n",
    "length_book = 100000\n",
    "length_has_tag = 300000\n",
    "length_author = 10000\n",
    "length_written_by = 150000\n",
    "length_publisher = 200\n",
    "length_copy = 300000\n",
    "length_location = 50\n",
    "length_bookshelf = 1000"
   ]
  },
  {
   "cell_type": "code",
   "execution_count": 2,
   "id": "c234f095",
   "metadata": {},
   "outputs": [],
   "source": [
    "def fileToList(fileName):\n",
    "    result = []\n",
    "    file1 = open(fileName, 'r')\n",
    "    linesRead = file1.readlines()\n",
    "    file1.close()\n",
    "    for line in linesRead:\n",
    "        result.append(line.replace('\\n', ''))\n",
    "    return result\n",
    "\n",
    "def listToFile(lines, fileName):\n",
    "    temp = open(fileName, 'w')\n",
    "    temp.writelines(lines)\n",
    "    temp.close()\n",
    "    return 0"
   ]
  },
  {
   "cell_type": "code",
   "execution_count": 3,
   "id": "0a56eb5f",
   "metadata": {},
   "outputs": [],
   "source": [
    "titles = fileToList(\"./rawLists/titleList.txt\")\n",
    "publishers = fileToList(\"./rawLists/publisherList.txt\")\n",
    "addresses = fileToList(\"./rawLists/addressList.txt\")\n",
    "tags = list(set(fileToList(\"./rawLists/tagsList.txt\")))\n",
    "firstNames = fileToList(\"./rawLists/firstNameList.txt\")\n",
    "lastNames = fileToList(\"./rawLists/lastNameList.txt\")\n",
    "countries = fileToList(\"./rawLists/countryList.txt\")"
   ]
  },
  {
   "cell_type": "code",
   "execution_count": 4,
   "id": "4f661c9b",
   "metadata": {},
   "outputs": [],
   "source": [
    "def isbnIndex(indexFrom, indexTo, unique):\n",
    "    result = []\n",
    "    numDigit = indexTo - indexFrom\n",
    "    if (unique):\n",
    "        temp = random.sample(range(0, int(math.pow(10, numDigit))), length_book)\n",
    "        for i in range(0, length_book):\n",
    "            n = temp[i]\n",
    "            result.append(('%0' + str(numDigit) + 'd') % n)\n",
    "    else:\n",
    "        for i in range(0, length_book):\n",
    "            n = int(random.randint(0, math.pow(10, numDigit) - 1))\n",
    "            result.append(('%0' + str(numDigit) + 'd') % n)\n",
    "    return result\n",
    "\n",
    "def getISBN():\n",
    "    result = []\n",
    "    isbn_0_3 = isbnIndex(0, 3, False)\n",
    "    isbn_3_4 = isbnIndex(3, 4, False)\n",
    "    isbn_4_6 = isbnIndex(4, 6, False)\n",
    "    isbn_6_12 = isbnIndex(6, 12, True)\n",
    "    isbn_12_13 = isbnIndex(12, 13, False)\n",
    "    for i in range(0, length_book):\n",
    "        result.append(\n",
    "            isbn_0_3[i] + \"-\" + \n",
    "            isbn_3_4[i] + \"-\" + \n",
    "            isbn_4_6[i] + \"-\" + \n",
    "            isbn_6_12[i] + \"-\" + \n",
    "            isbn_12_13[i]\n",
    "        )\n",
    "    return result"
   ]
  },
  {
   "cell_type": "code",
   "execution_count": 5,
   "id": "e02875d9",
   "metadata": {},
   "outputs": [],
   "source": [
    "isbns = getISBN()"
   ]
  },
  {
   "cell_type": "code",
   "execution_count": 6,
   "id": "6303a205",
   "metadata": {},
   "outputs": [],
   "source": [
    "def getInsertQueriesForBook():\n",
    "    result = []\n",
    "    for i in range(0, length_book):\n",
    "        result.append(\n",
    "            \"insert into Book (ISBN, title, number_of_pages, publisher_ID, publication_year) values (\" + \n",
    "            isbns[i] + ', \\\"' + \n",
    "            titles[random.randint(0, len(titles) - 1)] + '\\\", ' + \n",
    "            str(random.randint(80, 600)) + \", \" + \n",
    "            str(random.randint(1, length_publisher)) + \", \" + \n",
    "            str(random.randint(1900, 2023)) + \");\\n\"\n",
    "        )\n",
    "    return result"
   ]
  },
  {
   "cell_type": "code",
   "execution_count": 7,
   "id": "c995ab0f",
   "metadata": {},
   "outputs": [],
   "source": [
    "def getInsertQueriesForAuthor():\n",
    "    result = []\n",
    "    for i in range(0, length_author):\n",
    "        result.append(\n",
    "            \"insert into Author (ID, name, nationality, birth_year) values (\" + \n",
    "            str(i + 1) + ', \\\"' + \n",
    "            firstNames[random.randint(0, len(firstNames) - 1)] + \" \" + \n",
    "            lastNames[random.randint(0, len(lastNames) - 1)] + '\\\", \\\"' +\n",
    "            countries[random.randint(0, len(countries) - 1)] + '\\\", ' + \n",
    "            str(random.randint(1800, 2005)) + \");\\n\"\n",
    "        )\n",
    "    return result"
   ]
  },
  {
   "cell_type": "code",
   "execution_count": 8,
   "id": "23b3c3b4",
   "metadata": {},
   "outputs": [],
   "source": [
    "def getInsertQueriesForWrittenBy():\n",
    "    result = []\n",
    "    for i in range(0, length_written_by):\n",
    "        result.append(\n",
    "            'insert into Written_by (ISBN, author_ID) values (\\\"' + \n",
    "            isbns[random.randint(1, len(isbns) - 1)] + '\\\", ' + \n",
    "            str(random.randint(1, length_author)) + \");\\n\"\n",
    "        )\n",
    "    return result "
   ]
  },
  {
   "cell_type": "code",
   "execution_count": 9,
   "id": "a25f71c0",
   "metadata": {},
   "outputs": [],
   "source": [
    "def getInsertQueriesForPublisher():\n",
    "    result = []\n",
    "    for i in range(0, length_publisher):\n",
    "        result.append(\n",
    "            \"insert into Publisher (ID, name, address) values (\" + \n",
    "            str(i + 1) + ', \\\"' + \n",
    "            publishers[random.randint(0, len(publishers) - 1)] + '\\\", \\\"' +\n",
    "            addresses[random.randint(0, len(addresses) - 1)] + '\\\");\\n'\n",
    "        )\n",
    "    return result"
   ]
  },
  {
   "cell_type": "code",
   "execution_count": 10,
   "id": "cac8a04f",
   "metadata": {},
   "outputs": [],
   "source": [
    "def getInsertQueriesForHasTag():\n",
    "    result = []\n",
    "    for isbn in isbns:\n",
    "        tagIndexs = random.sample(range(0, len(tags)), random.randint(2, 5))\n",
    "        for tagIndex in tagIndexs:\n",
    "            result.append(\n",
    "                'insert into Has_tag (ISBN, tag_name) values (\\\"' + \n",
    "                isbn + '\\\", \\\"' + \n",
    "                tags[tagIndex] + '\\\");\\n'\n",
    "            )\n",
    "    return result"
   ]
  },
  {
   "cell_type": "code",
   "execution_count": 11,
   "id": "ce2ddf4a",
   "metadata": {},
   "outputs": [],
   "source": [
    "def getInsertQueriesForLocation():\n",
    "    result = []\n",
    "    libraryBuildingName_1 = \"John M. Harper Branch\"\n",
    "    libraryBuildingName_2 = \"Eastside Branch\"\n",
    "    openTimes = ['8:00', '8:30', '9:00', '9:30', '10:00']\n",
    "    closeTimes = ['17:00', '17:30', '18:00', '18:30', '19:00']\n",
    "    for i in range(0, 5):\n",
    "        for j in range(0, 5):\n",
    "            result.append(\n",
    "                'insert into Location (ID, building, floor, room, open_time, close_time) values (NULL, \\\"' + \n",
    "                libraryBuildingName_1 + '\\\", ' + \n",
    "                str(i + 1) + ', ' + \n",
    "                str((i + 1) * 100 + (j + 1)) + ', \\\"' + \n",
    "                openTimes[random.randint(0, 4)] + '\\\", \\\"' + \n",
    "                closeTimes[random.randint(0, 4)] + '\\\");\\n'\n",
    "            )\n",
    "            result.append(\n",
    "                'insert into Location (ID, building, floor, room, open_time, close_time) values (NULL, \\\"' + \n",
    "                libraryBuildingName_2 + '\\\", ' + \n",
    "                str(i + 1) + ', ' + \n",
    "                str((i + 1) * 100 + (j + 1)) + ', \\\"' + \n",
    "                openTimes[random.randint(0, 4)] + '\\\", \\\"' + \n",
    "                closeTimes[random.randint(0, 4)] + '\\\");\\n'\n",
    "            )\n",
    "    return result"
   ]
  },
  {
   "cell_type": "code",
   "execution_count": 12,
   "id": "fbece139",
   "metadata": {},
   "outputs": [],
   "source": [
    "def getInsertQueriesForBookshelf():\n",
    "    result = []\n",
    "    for i in range(0, length_bookshelf):\n",
    "        result.append(\n",
    "            'insert into Bookshelf (ID, capacity, current_amount, location_ID) values (NULL, ' + \n",
    "            str(random.randint(150, 250)) + ', 0, ' + \n",
    "            str(random.randint(1, length_location)) + ');\\n'\n",
    "        )\n",
    "    return result"
   ]
  },
  {
   "cell_type": "code",
   "execution_count": 13,
   "id": "476c07b1",
   "metadata": {},
   "outputs": [],
   "source": [
    "def getInsertQueriesForCopy():\n",
    "    result = []\n",
    "    for isbn in isbns:\n",
    "        copyNum = random.randint(1, 3)\n",
    "        for i in range(0, copyNum):\n",
    "            result.append(\n",
    "                'insert into Copy (ISBN, copy_ID, availability, bookshelf_ID) values (\\\"' + \n",
    "                isbn + '\\\", ' + \n",
    "                'NULL, TRUE, ' + \n",
    "                str(random.randint(1, length_bookshelf)) + ');\\n'\n",
    "            )\n",
    "    return result"
   ]
  },
  {
   "cell_type": "code",
   "execution_count": 14,
   "id": "d302fd79",
   "metadata": {},
   "outputs": [
    {
     "data": {
      "text/plain": [
       "0"
      ]
     },
     "execution_count": 14,
     "metadata": {},
     "output_type": "execute_result"
    }
   ],
   "source": [
    "listToFile(getInsertQueriesForBook(), './insertQueries/insertBook.sql')\n",
    "listToFile(getInsertQueriesForAuthor(), './insertQueries/insertAuthor.sql')\n",
    "listToFile(getInsertQueriesForWrittenBy(), './insertQueries/insertWrittenBy.sql')\n",
    "listToFile(getInsertQueriesForPublisher(), './insertQueries/insertPublisher.sql')\n",
    "listToFile(getInsertQueriesForHasTag(), './insertQueries/insertHasTag.sql')\n",
    "listToFile(getInsertQueriesForLocation(), './insertQueries/insertLocation.sql')\n",
    "listToFile(getInsertQueriesForBookshelf(), './insertQueries/insertBookshelf.sql')\n",
    "listToFile(getInsertQueriesForCopy(), './insertQueries/insertCopy.sql')"
   ]
  },
  {
   "cell_type": "code",
   "execution_count": null,
   "id": "5681f191",
   "metadata": {},
   "outputs": [],
   "source": []
  }
 ],
 "metadata": {
  "kernelspec": {
   "display_name": "Python 3 (ipykernel)",
   "language": "python",
   "name": "python3"
  },
  "language_info": {
   "codemirror_mode": {
    "name": "ipython",
    "version": 3
   },
   "file_extension": ".py",
   "mimetype": "text/x-python",
   "name": "python",
   "nbconvert_exporter": "python",
   "pygments_lexer": "ipython3",
   "version": "3.8.3"
  }
 },
 "nbformat": 4,
 "nbformat_minor": 5
}

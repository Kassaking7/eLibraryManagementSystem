{
 "cells": [
  {
   "cell_type": "code",
   "execution_count": 5,
   "id": "b6a4ba13",
   "metadata": {},
   "outputs": [],
   "source": [
    "file1 = open('temp.txt', 'r')\n",
    "linesRead = file1.readlines()\n",
    "file2 = open('titleList.txt', 'w')\n",
    "\n",
    "result = []\n",
    "for i in range(0, len(linesRead)):\n",
    "    temp = linesRead[i]\n",
    "    if (temp.count(\"\\'\") == 8):\n",
    "        fromIndex = temp.find(\"\\'\")\n",
    "        toIndex = temp.find(\"\\'\", fromIndex + 1)\n",
    "        temp2 = temp[fromIndex + 1:toIndex]\n",
    "        if (temp2.count(\"(\") == temp2.count(\")\")):\n",
    "            result.append(temp[fromIndex + 1:toIndex] + '\\n')\n",
    "file1.close()\n",
    "file2.writelines(result)\n",
    "file2.close()"
   ]
  },
  {
   "cell_type": "code",
   "execution_count": null,
   "id": "ae93db4c",
   "metadata": {},
   "outputs": [],
   "source": []
  }
 ],
 "metadata": {
  "kernelspec": {
   "display_name": "Python 3 (ipykernel)",
   "language": "python",
   "name": "python3"
  },
  "language_info": {
   "codemirror_mode": {
    "name": "ipython",
    "version": 3
   },
   "file_extension": ".py",
   "mimetype": "text/x-python",
   "name": "python",
   "nbconvert_exporter": "python",
   "pygments_lexer": "ipython3",
   "version": "3.8.3"
  }
 },
 "nbformat": 4,
 "nbformat_minor": 5
}

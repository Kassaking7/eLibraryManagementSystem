{
 "cells": [
  {
   "cell_type": "code",
   "execution_count": 27,
   "id": "8cae91ca",
   "metadata": {},
   "outputs": [],
   "source": [
    "import random\n",
    "import math\n",
    "\n",
    "length_book = 100000\n",
    "length_has_tag = 300000\n",
    "length_author = 10000\n",
    "length_written_by = 150000\n",
    "length_publisher = 200\n",
    "length_copy = 300000\n",
    "length_location = 50\n",
    "length_bookshelf = 1000"
   ]
  },
  {
   "cell_type": "code",
   "execution_count": 28,
   "id": "bdbb49bf",
   "metadata": {},
   "outputs": [],
   "source": [
    "def fileToList(fileName):\n",
    "    result = []\n",
    "    file1 = open(fileName, 'r')\n",
    "    linesRead = file1.readlines()\n",
    "    file1.close()\n",
    "    for line in linesRead:\n",
    "        result.append(line.replace('\\n', ''))\n",
    "    return result\n",
    "\n",
    "def listToFile(lines, fileName):\n",
    "    temp = open(fileName, 'w')\n",
    "    temp.writelines(lines)\n",
    "    temp.close()\n",
    "    return 0"
   ]
  },
  {
   "cell_type": "code",
   "execution_count": 46,
   "id": "d4f3fbf1",
   "metadata": {},
   "outputs": [],
   "source": [
    "titles = fileToList(\"./rawLists/titleList.txt\")\n",
    "publishers = fileToList(\"./rawLists/publisherList.txt\")\n",
    "addresses = fileToList(\"./rawLists/addressList.txt\")\n",
    "tags = fileToList(\"./rawLists/tagsList.txt\")\n",
    "firstNames = fileToList(\"./rawLists/firstNameList.txt\")\n",
    "lastNames = fileToList(\"./rawLists/lastNameList.txt\")\n",
    "countries = fileToList(\"./rawLists/countryList.txt\")"
   ]
  },
  {
   "cell_type": "code",
   "execution_count": 47,
   "id": "994800f5",
   "metadata": {},
   "outputs": [],
   "source": [
    "def isbnIndex(indexFrom, indexTo, unique):\n",
    "    result = []\n",
    "    numDigit = indexTo - indexFrom\n",
    "    if (unique):\n",
    "        temp = random.sample(range(0, int(math.pow(10, numDigit))), length_book)\n",
    "        for i in range(0, length_book):\n",
    "            n = temp[i]\n",
    "            result.append(('%0' + str(numDigit) + 'd') % n)\n",
    "    else:\n",
    "        for i in range(0, length_book):\n",
    "            n = int(random.randint(0, math.pow(10, numDigit) - 1))\n",
    "            result.append(('%0' + str(numDigit) + 'd') % n)\n",
    "    return result\n",
    "\n",
    "def getISBN():\n",
    "    result = []\n",
    "    isbn_0_3 = isbnIndex(0, 3, False)\n",
    "    isbn_3_4 = isbnIndex(3, 4, False)\n",
    "    isbn_4_6 = isbnIndex(4, 6, False)\n",
    "    isbn_6_12 = isbnIndex(6, 12, True)\n",
    "    isbn_12_13 = isbnIndex(12, 13, False)\n",
    "    for i in range(0, length_book):\n",
    "        result.append(\n",
    "            isbn_0_3[i] + \"-\" + \n",
    "            isbn_3_4[i] + \"-\" + \n",
    "            isbn_4_6[i] + \"-\" + \n",
    "            isbn_6_12[i] + \"-\" + \n",
    "            isbn_12_13[i]\n",
    "        )\n",
    "    return result"
   ]
  },
  {
   "cell_type": "code",
   "execution_count": 48,
   "id": "5e27e977",
   "metadata": {},
   "outputs": [],
   "source": [
    "isbns = getISBN()"
   ]
  },
  {
   "cell_type": "code",
   "execution_count": 54,
   "id": "aee8aff2",
   "metadata": {},
   "outputs": [],
   "source": [
    "def getInsertQueriesForBook():\n",
    "    result = []\n",
    "    for i in range(0, length_book):\n",
    "        result.append(\n",
    "            \"insert into Book (ISBN, title, number_of_pages, publisher_ID, publication_year) values (\" + \n",
    "            isbns[i] + ', \\\"' + \n",
    "            titles[random.randint(0, len(titles) - 1)] + '\\\", ' + \n",
    "            str(random.randint(80, 600)) + \", \" + \n",
    "            str(random.randint(1, length_publisher)) + \", \" + \n",
    "            str(random.randint(1900, 2023)) + \");\\n\"\n",
    "        )\n",
    "    return result"
   ]
  },
  {
   "cell_type": "code",
   "execution_count": 61,
   "id": "55773eb8",
   "metadata": {},
   "outputs": [],
   "source": [
    "def getInsertQueriesForAuthor():\n",
    "    result = []\n",
    "    for i in range(0, length_author):\n",
    "        result.append(\n",
    "            \"insert into Author (ID, name, nationality, birth_year) values (\" + \n",
    "            str(i + 1) + ', \\\"' + \n",
    "            firstNames[random.randint(0, len(firstNames) - 1)] + \" \" + \n",
    "            lastNames[random.randint(0, len(lastNames) - 1)] + '\\\", \\\"' +\n",
    "            countries[random.randint(0, len(countries) - 1)] + '\\\", ' + \n",
    "            str(random.randint(1800, 2005)) + \");\\n\"\n",
    "        )\n",
    "    return result"
   ]
  },
  {
   "cell_type": "code",
   "execution_count": 63,
   "id": "2c801294",
   "metadata": {},
   "outputs": [],
   "source": [
    "def getInsertQueriesForWrittenBy():\n",
    "    result = []\n",
    "    for i in range(0, length_written_by):\n",
    "        result.append(\n",
    "            'insert into Written_by (ISBN, author_ID) values (\\\"' + \n",
    "            isbns[random.randint(1, len(isbns) - 1)] + '\\\", ' + \n",
    "            str(random.randint(1, length_author)) + \");\\n\"\n",
    "        )\n",
    "    return result "
   ]
  },
  {
   "cell_type": "code",
   "execution_count": 64,
   "id": "0aeb2138",
   "metadata": {},
   "outputs": [],
   "source": [
    "def getInsertQueriesForPublisher():\n",
    "    result = []\n",
    "    for i in range(0, length_publisher):\n",
    "        result.append(\n",
    "            \"insert into Publisher (ID, name, address) values (\" + \n",
    "            str(i + 1) + ', \\\"' + \n",
    "            publishers[random.randint(0, len(publishers) - 1)] + '\\\", \\\"' +\n",
    "            addresses[random.randint(0, len(addresses) - 1)] + '\\\");\\n'\n",
    "        )\n",
    "    return result"
   ]
  },
  {
   "cell_type": "code",
   "execution_count": 65,
   "id": "08f37a7a",
   "metadata": {},
   "outputs": [
    {
     "data": {
      "text/plain": [
       "0"
      ]
     },
     "execution_count": 65,
     "metadata": {},
     "output_type": "execute_result"
    }
   ],
   "source": [
    "listToFile(getInsertQueriesForBook(), './insertQueries/insertBook.sql')\n",
    "listToFile(getInsertQueriesForAuthor(), './insertQueries/insertAuthor.sql')\n",
    "listToFile(getInsertQueriesForWrittenBy(), './insertQueries/insertWrittenBy.sql')\n",
    "listToFile(getInsertQueriesForPublisher(), './insertQueries/insertPublisher.sql')"
   ]
  },
  {
   "cell_type": "code",
   "execution_count": 87,
   "id": "597bfe84",
   "metadata": {},
   "outputs": [],
   "source": [
    "\n",
    "\n",
    "def concat(isbn_0_3, isbn_3_4, isbn_4_6, isbn_6_12, isbn_12_13):\n",
    "    result = []\n",
    "    for i in range(0, length):\n",
    "        result.append(\n",
    "            \"insert into Book (ISBN, title, number_of_pages, publisher_ID, publication_year) values (\" + \n",
    "            isbn_0_3[i] + \"-\" + \n",
    "            isbn_3_4[i] + \"-\" + \n",
    "            isbn_4_6[i] + \"-\" + \n",
    "            isbn_6_12[i] + \"-\" + \n",
    "            isbn_12_13[i] + ', \\\"' + \n",
    "            titles[random.randint(0, 999)] + '\\\", ' + \n",
    "            str(random.randint(80, 600)) + \", \" + \n",
    "            str(random.randint(1, 50)) + \", \" + \n",
    "            str(random.randint(1900, 2023)) + \");\"\n",
    "        )\n",
    "    return result"
   ]
  },
  {
   "cell_type": "code",
   "execution_count": 88,
   "id": "c2298d08",
   "metadata": {},
   "outputs": [
    {
     "data": {
      "text/plain": [
       "()"
      ]
     },
     "execution_count": 88,
     "metadata": {},
     "output_type": "execute_result"
    }
   ],
   "source": [
    "insert_queries = concat(isbnIndex(0, 3, False), isbnIndex(3, 4, False), isbnIndex(4, 6, False), isbnIndex(6, 12, True), isbnIndex(12, 13, False))\n",
    "\n"
   ]
  },
  {
   "cell_type": "code",
   "execution_count": 89,
   "id": "69d29847",
   "metadata": {},
   "outputs": [],
   "source": [
    "output = \"\"\n",
    "for query in insert_queries:\n",
    "    output += query + \"\\n\"\n",
    "    \n",
    "text_file = open(\"Output.txt\", \"w\")"
   ]
  },
  {
   "cell_type": "code",
   "execution_count": 90,
   "id": "5f162659",
   "metadata": {},
   "outputs": [],
   "source": [
    "text_file = open(\"Output.txt\", \"w\")\n",
    "text_file.write(output)\n",
    "text_file.close()"
   ]
  },
  {
   "cell_type": "code",
   "execution_count": null,
   "id": "cac8a04f",
   "metadata": {},
   "outputs": [],
   "source": []
  }
 ],
 "metadata": {
  "kernelspec": {
   "display_name": "Python 3 (ipykernel)",
   "language": "python",
   "name": "python3"
  },
  "language_info": {
   "codemirror_mode": {
    "name": "ipython",
    "version": 3
   },
   "file_extension": ".py",
   "mimetype": "text/x-python",
   "name": "python",
   "nbconvert_exporter": "python",
   "pygments_lexer": "ipython3",
   "version": "3.8.3"
  }
 },
 "nbformat": 4,
 "nbformat_minor": 5
}
